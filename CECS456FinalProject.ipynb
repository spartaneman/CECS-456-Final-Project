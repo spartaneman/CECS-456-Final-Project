{
  "nbformat": 4,
  "nbformat_minor": 0,
  "metadata": {
    "colab": {
      "provenance": []
    },
    "kernelspec": {
      "name": "python3",
      "display_name": "Python 3"
    },
    "language_info": {
      "name": "python"
    },
    "accelerator": "GPU",
    "gpuClass": "premium"
  },
  "cells": [
    {
      "cell_type": "code",
      "execution_count": 2,
      "metadata": {
        "id": "AmsnPn9WQl9X"
      },
      "outputs": [],
      "source": [
        "import os\n",
        "import zipfile"
      ]
    },
    {
      "cell_type": "code",
      "source": [
        "from google.colab import drive\n",
        "drive.mount('/content/gdrive')"
      ],
      "metadata": {
        "colab": {
          "base_uri": "https://localhost:8080/"
        },
        "id": "dhUARPBkQyjr",
        "outputId": "d7a41f54-0c44-4a67-fca0-b0430839b842"
      },
      "execution_count": 3,
      "outputs": [
        {
          "output_type": "stream",
          "name": "stdout",
          "text": [
            "Mounted at /content/gdrive\n"
          ]
        }
      ]
    },
    {
      "cell_type": "code",
      "source": [
        "os.environ['KAGGLE_CONFIG_DIR']='/content/gdrive/MyDrive/kaggle_dataset'"
      ],
      "metadata": {
        "id": "b2wE5_jKRAn5"
      },
      "execution_count": 4,
      "outputs": []
    },
    {
      "cell_type": "code",
      "source": [
        "%cd /content/gdrive/MyDrive/kaggle_dataset"
      ],
      "metadata": {
        "colab": {
          "base_uri": "https://localhost:8080/"
        },
        "id": "CG0-57PTRQ9g",
        "outputId": "06ba15ff-3dfa-41ad-c933-be65c69939d6"
      },
      "execution_count": 5,
      "outputs": [
        {
          "output_type": "stream",
          "name": "stdout",
          "text": [
            "/content/gdrive/MyDrive/kaggle_dataset\n"
          ]
        }
      ]
    },
    {
      "cell_type": "code",
      "source": [
        "!kaggle datasets download -d alessiocorrado99/animals10"
      ],
      "metadata": {
        "colab": {
          "base_uri": "https://localhost:8080/"
        },
        "id": "zoMWIxRzRS63",
        "outputId": "71f3b248-0ab0-4928-fcac-927022c58143"
      },
      "execution_count": null,
      "outputs": [
        {
          "output_type": "stream",
          "name": "stdout",
          "text": [
            "Downloading animals10.zip to /content/gdrive/MyDrive/kaggle_dataset\n",
            " 99% 582M/586M [00:03<00:00, 168MB/s]\n",
            "100% 586M/586M [00:03<00:00, 188MB/s]\n"
          ]
        }
      ]
    },
    {
      "cell_type": "code",
      "source": [
        "Zip_ref = zipfile.ZipFile(\"/content/gdrive/MyDrive/kaggle_dataset/animals10.zip\")\n",
        "Zip_ref.extractall(\"/tmp\")\n",
        "Zip_ref.close()"
      ],
      "metadata": {
        "id": "LxqYgLrvRknz"
      },
      "execution_count": 6,
      "outputs": []
    },
    {
      "cell_type": "markdown",
      "source": [
        "DATA HAS BEEN DOWNLOADED\n",
        "RUN OUR CODE FROM HERE"
      ],
      "metadata": {
        "id": "SYV0WJ3NR08E"
      }
    },
    {
      "cell_type": "code",
      "source": [
        "folderDirectory =\"/tmp/raw-img\"\n",
        "class_names = os.listdir(folderDirectory)\n",
        "class_names.sort()\n",
        "print(class_names)"
      ],
      "metadata": {
        "colab": {
          "base_uri": "https://localhost:8080/"
        },
        "id": "o4Cho_jiR0nW",
        "outputId": "90daa46d-f48e-40cf-9a0d-cb442a44f0a7"
      },
      "execution_count": 7,
      "outputs": [
        {
          "output_type": "stream",
          "name": "stdout",
          "text": [
            "['cane', 'cavallo', 'elefante', 'farfalla', 'gallina', 'gatto', 'mucca', 'pecora', 'ragno', 'scoiattolo']\n"
          ]
        }
      ]
    },
    {
      "cell_type": "code",
      "source": [
        "import numpy as np\n",
        "from matplotlib import pyplot as plt\n",
        "import tensorflow as tf\n",
        "import cv2\n",
        "import imghdr\n",
        "import shutil\n",
        "import random as rn\n",
        "from tqdm import tqdm\n",
        "from tensorflow import keras\n",
        "from tensorflow.keras import layers\n",
        "from tensorflow.keras.models import Sequential"
      ],
      "metadata": {
        "id": "LmQ_M3C6FS_R"
      },
      "execution_count": 8,
      "outputs": []
    },
    {
      "cell_type": "code",
      "source": [
        "data = tf.keras.utils.image_dataset_from_directory(folderDirectory)"
      ],
      "metadata": {
        "colab": {
          "base_uri": "https://localhost:8080/"
        },
        "id": "Euv2k84MvW3e",
        "outputId": "26a39a10-5003-4b45-db35-0169d0d13123"
      },
      "execution_count": 9,
      "outputs": [
        {
          "output_type": "stream",
          "name": "stdout",
          "text": [
            "Found 26179 files belonging to 10 classes.\n"
          ]
        }
      ]
    },
    {
      "cell_type": "code",
      "source": [
        "train_size = int(len(data) * .7)\n",
        "val_size = int(len(data) * .2)\n",
        "test_size = int(len(data) * .1)"
      ],
      "metadata": {
        "id": "RhXf6MGiw0Nl"
      },
      "execution_count": 10,
      "outputs": []
    },
    {
      "cell_type": "code",
      "source": [
        "train = data.take(train_size)\n",
        "val = data.skip(train_size).take(val_size)\n",
        "test = data.skip(train_size + val_size).take(test_size)"
      ],
      "metadata": {
        "id": "5N7UJetZxPGP"
      },
      "execution_count": 11,
      "outputs": []
    },
    {
      "cell_type": "code",
      "source": [
        "from tensorflow.keras.layers import Conv2D, MaxPooling2D, Dense, Flatten, Dropout"
      ],
      "metadata": {
        "id": "YRuRxlc_xnMA"
      },
      "execution_count": 12,
      "outputs": []
    },
    {
      "cell_type": "code",
      "source": [
        "img_height = 256\n",
        "img_width = 256"
      ],
      "metadata": {
        "id": "gr4zz4ANx7_n"
      },
      "execution_count": 13,
      "outputs": []
    },
    {
      "cell_type": "code",
      "source": [
        "model = Sequential()\n",
        "model.add(keras.layers.experimental.preprocessing.Rescaling(1./255, input_shape = (img_height, img_width, 3)))\n",
        "model.add(keras.layers.Conv2D(16, 3, padding='same', activation='relu'))\n",
        "model.add(keras.layers.MaxPooling2D())\n",
        "model.add(keras.layers.Conv2D(32, 3, padding='same', activation='relu'))\n",
        "model.add(keras.layers.MaxPooling2D())\n",
        "model.add(keras.layers.Conv2D(64, 3, padding='same', activation='relu'))\n",
        "model.add(keras.layers.MaxPooling2D())\n",
        "model.add(keras.layers.Conv2D(128, 3, padding='same', activation='relu'))\n",
        "model.add(keras.layers.MaxPooling2D())\n",
        "model.add(keras.layers.Flatten())\n",
        "model.add(keras.layers.Dense(128, activation='relu'))\n",
        "model.add(keras.layers.Dense(len(class_names), activation = 'softmax'))"
      ],
      "metadata": {
        "id": "XcvftN0_yt2e"
      },
      "execution_count": 14,
      "outputs": []
    },
    {
      "cell_type": "code",
      "source": [
        "model.compile(loss='sparse_categorical_crossentropy', optimizer='adam', metrics=['accuracy'])"
      ],
      "metadata": {
        "id": "1_UBeLyr0Q6H"
      },
      "execution_count": 15,
      "outputs": []
    },
    {
      "cell_type": "code",
      "source": [
        "model.summary()"
      ],
      "metadata": {
        "id": "hSIghfJ10f1O",
        "colab": {
          "base_uri": "https://localhost:8080/"
        },
        "outputId": "732ec28f-8928-4cd6-fc40-f8d3372e4233"
      },
      "execution_count": 16,
      "outputs": [
        {
          "output_type": "stream",
          "name": "stdout",
          "text": [
            "Model: \"sequential\"\n",
            "_________________________________________________________________\n",
            " Layer (type)                Output Shape              Param #   \n",
            "=================================================================\n",
            " rescaling (Rescaling)       (None, 256, 256, 3)       0         \n",
            "                                                                 \n",
            " conv2d (Conv2D)             (None, 256, 256, 16)      448       \n",
            "                                                                 \n",
            " max_pooling2d (MaxPooling2D  (None, 128, 128, 16)     0         \n",
            " )                                                               \n",
            "                                                                 \n",
            " conv2d_1 (Conv2D)           (None, 128, 128, 32)      4640      \n",
            "                                                                 \n",
            " max_pooling2d_1 (MaxPooling  (None, 64, 64, 32)       0         \n",
            " 2D)                                                             \n",
            "                                                                 \n",
            " conv2d_2 (Conv2D)           (None, 64, 64, 64)        18496     \n",
            "                                                                 \n",
            " max_pooling2d_2 (MaxPooling  (None, 32, 32, 64)       0         \n",
            " 2D)                                                             \n",
            "                                                                 \n",
            " conv2d_3 (Conv2D)           (None, 32, 32, 128)       73856     \n",
            "                                                                 \n",
            " max_pooling2d_3 (MaxPooling  (None, 16, 16, 128)      0         \n",
            " 2D)                                                             \n",
            "                                                                 \n",
            " flatten (Flatten)           (None, 32768)             0         \n",
            "                                                                 \n",
            " dense (Dense)               (None, 128)               4194432   \n",
            "                                                                 \n",
            " dense_1 (Dense)             (None, 10)                1290      \n",
            "                                                                 \n",
            "=================================================================\n",
            "Total params: 4,293,162\n",
            "Trainable params: 4,293,162\n",
            "Non-trainable params: 0\n",
            "_________________________________________________________________\n"
          ]
        }
      ]
    },
    {
      "cell_type": "code",
      "source": [
        "history = model.fit(\n",
        "    train,\n",
        "    batch_size = 32,\n",
        "    epochs = 10,\n",
        "    validation_data = val,\n",
        "    validation_steps = 1\n",
        ")"
      ],
      "metadata": {
        "colab": {
          "base_uri": "https://localhost:8080/"
        },
        "id": "YJ97suXO0mHk",
        "outputId": "d14d93ed-11c7-456b-d915-3c47bb24540f"
      },
      "execution_count": 17,
      "outputs": [
        {
          "output_type": "stream",
          "name": "stdout",
          "text": [
            "Epoch 1/10\n",
            "573/573 [==============================] - 28s 32ms/step - loss: 1.6782 - accuracy: 0.4164 - val_loss: 0.7759 - val_accuracy: 0.8125\n",
            "Epoch 2/10\n",
            "573/573 [==============================] - 18s 31ms/step - loss: 1.1561 - accuracy: 0.6066 - val_loss: 0.9765 - val_accuracy: 0.7812\n",
            "Epoch 3/10\n",
            "573/573 [==============================] - 18s 31ms/step - loss: 0.8595 - accuracy: 0.7111 - val_loss: 1.1901 - val_accuracy: 0.5625\n",
            "Epoch 4/10\n",
            "573/573 [==============================] - 18s 31ms/step - loss: 0.6087 - accuracy: 0.7949 - val_loss: 0.6456 - val_accuracy: 0.8125\n",
            "Epoch 5/10\n",
            "573/573 [==============================] - 18s 31ms/step - loss: 0.3797 - accuracy: 0.8714 - val_loss: 0.3044 - val_accuracy: 0.8750\n",
            "Epoch 6/10\n",
            "573/573 [==============================] - 18s 31ms/step - loss: 0.2292 - accuracy: 0.9232 - val_loss: 0.3389 - val_accuracy: 0.9375\n",
            "Epoch 7/10\n",
            "573/573 [==============================] - 18s 31ms/step - loss: 0.1638 - accuracy: 0.9456 - val_loss: 0.1157 - val_accuracy: 0.9375\n",
            "Epoch 8/10\n",
            "573/573 [==============================] - 18s 31ms/step - loss: 0.1088 - accuracy: 0.9642 - val_loss: 1.6308 - val_accuracy: 0.8125\n",
            "Epoch 9/10\n",
            "573/573 [==============================] - 18s 31ms/step - loss: 0.1027 - accuracy: 0.9672 - val_loss: 0.2634 - val_accuracy: 0.9375\n",
            "Epoch 10/10\n",
            "573/573 [==============================] - 18s 31ms/step - loss: 0.0868 - accuracy: 0.9703 - val_loss: 0.7231 - val_accuracy: 0.8438\n"
          ]
        }
      ]
    },
    {
      "cell_type": "code",
      "source": [
        "score = model.evaluate(train)\n",
        "print(\"Total loss on Training set: \", score[0])\n",
        "print(\"Accuracy of Training set: \", score[1])"
      ],
      "metadata": {
        "colab": {
          "base_uri": "https://localhost:8080/"
        },
        "id": "EKh1-Nbv3HtE",
        "outputId": "19fb5f34-0010-4166-c9ce-5735e5509f1b"
      },
      "execution_count": 18,
      "outputs": [
        {
          "output_type": "stream",
          "name": "stdout",
          "text": [
            "573/573 [==============================] - 9s 15ms/step - loss: 0.1302 - accuracy: 0.9575\n",
            "Total loss on Training set:  0.13019779324531555\n",
            "Accuracy of Training set:  0.957515299320221\n"
          ]
        }
      ]
    },
    {
      "cell_type": "code",
      "source": [
        "score = model.evaluate(val)\n",
        "print(\"Total loss on Validation set: \", score[0])\n",
        "print(\"Accuracy of Validation set: \", score[1])"
      ],
      "metadata": {
        "colab": {
          "base_uri": "https://localhost:8080/"
        },
        "id": "ssE05RiG3M9p",
        "outputId": "0ee8fa5f-1ee5-40f7-dc42-d73349a37532"
      },
      "execution_count": 19,
      "outputs": [
        {
          "output_type": "stream",
          "name": "stdout",
          "text": [
            "163/163 [==============================] - 10s 14ms/step - loss: 2.4296 - accuracy: 0.6407\n",
            "Total loss on Validation set:  2.429631471633911\n",
            "Accuracy of Validation set:  0.6407208442687988\n"
          ]
        }
      ]
    },
    {
      "cell_type": "code",
      "source": [
        "acc = history.history['accuracy']\n",
        "val_acc = history.history['val_accuracy']\n",
        "\n",
        "loss = history.history['loss']\n",
        "val_loss = history.history['val_loss']\n",
        "\n",
        "epochs_range = range(10)\n",
        "\n",
        "plt.figure(figsize=(8, 8))\n",
        "plt.subplot(1, 2, 1)\n",
        "plt.plot(epochs_range, acc, label='Training Accuracy')\n",
        "plt.plot(epochs_range, val_acc, label='Validation Accuracy')\n",
        "plt.legend(loc='lower right')\n",
        "plt.title('Training and Validation Accuracy')\n",
        "\n",
        "plt.subplot(1, 2, 2)\n",
        "plt.plot(epochs_range, loss, label='Training Loss')\n",
        "plt.plot(epochs_range, val_loss, label='Validation Loss')\n",
        "plt.legend(loc='upper right')\n",
        "plt.title('Training and Validation Loss')\n",
        "plt.show()\n"
      ],
      "metadata": {
        "id": "m3XDpzip5VIh",
        "colab": {
          "base_uri": "https://localhost:8080/",
          "height": 499
        },
        "outputId": "8343981f-d237-4d9f-be75-e3012eb2ddfa"
      },
      "execution_count": 20,
      "outputs": [
        {
          "output_type": "display_data",
          "data": {
            "text/plain": [
              "<Figure size 576x576 with 2 Axes>"
            ],
            "image/png": "[encoded data removed]"
          },
          "metadata": {
            "needs_background": "light"
          }
        }
      ]
    },
    {
      "cell_type": "markdown",
      "source": [
        "SECOND ATTEMPT WITH DATA AUGMENTAION AND DROPUT\n"
      ],
      "metadata": {
        "id": "DHLjY74V9rw9"
      }
    },
    {
      "cell_type": "code",
      "source": [
        "data_augmentation = keras.Sequential(\n",
        "  [\n",
        "    layers.experimental.preprocessing.RandomFlip(\"horizontal\"),\n",
        "    layers.experimental.preprocessing.RandomRotation(0.1),\n",
        "    layers.experimental.preprocessing.RandomZoom(0.1),\n",
        "  ]\n",
        ")"
      ],
      "metadata": {
        "id": "xkTCUE7q8zoB"
      },
      "execution_count": 21,
      "outputs": []
    },
    {
      "cell_type": "code",
      "source": [
        "model = Sequential()\n",
        "model.add(keras.layers.experimental.preprocessing.Rescaling(1./255, input_shape = (img_height, img_width, 3)))\n",
        "model.add(data_augmentation)\n",
        "model.add(keras.layers.Conv2D(16, 3, padding='same', activation='relu'))\n",
        "model.add(keras.layers.MaxPooling2D())\n",
        "model.add(keras.layers.Conv2D(32, 3, padding='same', activation='relu'))\n",
        "model.add(keras.layers.MaxPooling2D())\n",
        "model.add(keras.layers.Conv2D(64, 3, padding='same', activation='relu'))\n",
        "model.add(keras.layers.MaxPooling2D())\n",
        "model.add(keras.layers.Conv2D(128, 3, padding='same', activation='relu'))\n",
        "model.add(keras.layers.MaxPooling2D())\n",
        "model.add(keras.layers.Dropout(0.3))\n",
        "model.add(keras.layers.Flatten())\n",
        "model.add(keras.layers.Dense(128, activation='relu'))\n",
        "model.add(keras.layers.Dense(len(class_names), activation = 'softmax'))"
      ],
      "metadata": {
        "id": "ZihuTgo39Vq8"
      },
      "execution_count": 22,
      "outputs": []
    },
    {
      "cell_type": "code",
      "source": [
        "model.compile(loss='sparse_categorical_crossentropy', optimizer='adam', metrics=['accuracy'])"
      ],
      "metadata": {
        "id": "AxJuqkQr9w9j"
      },
      "execution_count": 23,
      "outputs": []
    },
    {
      "cell_type": "code",
      "source": [
        "history = model.fit(\n",
        "    train,\n",
        "    batch_size = 32,\n",
        "    epochs = 25,\n",
        "    validation_data = val,\n",
        "    validation_steps = 1\n",
        ")"
      ],
      "metadata": {
        "colab": {
          "base_uri": "https://localhost:8080/"
        },
        "id": "64NXFtoF9z6X",
        "outputId": "82400531-411c-4651-9571-755d3170b96a"
      },
      "execution_count": 25,
      "outputs": [
        {
          "output_type": "stream",
          "name": "stdout",
          "text": [
            "Epoch 1/25\n",
            "573/573 [==============================] - 26s 46ms/step - loss: 0.5955 - accuracy: 0.7968 - val_loss: 0.5215 - val_accuracy: 0.8125\n",
            "Epoch 2/25\n",
            "573/573 [==============================] - 26s 46ms/step - loss: 0.5782 - accuracy: 0.8032 - val_loss: 0.8433 - val_accuracy: 0.7812\n",
            "Epoch 3/25\n",
            "573/573 [==============================] - 26s 45ms/step - loss: 0.5812 - accuracy: 0.8027 - val_loss: 1.0274 - val_accuracy: 0.5938\n",
            "Epoch 4/25\n",
            "573/573 [==============================] - 26s 45ms/step - loss: 0.5640 - accuracy: 0.8135 - val_loss: 0.8202 - val_accuracy: 0.7188\n",
            "Epoch 5/25\n",
            "573/573 [==============================] - 26s 46ms/step - loss: 0.5545 - accuracy: 0.8134 - val_loss: 0.6024 - val_accuracy: 0.7500\n",
            "Epoch 6/25\n",
            "573/573 [==============================] - 26s 46ms/step - loss: 0.5454 - accuracy: 0.8133 - val_loss: 0.5654 - val_accuracy: 0.8125\n",
            "Epoch 7/25\n",
            "573/573 [==============================] - 26s 46ms/step - loss: 0.5377 - accuracy: 0.8165 - val_loss: 0.3377 - val_accuracy: 0.8750\n",
            "Epoch 8/25\n",
            "573/573 [==============================] - 26s 46ms/step - loss: 0.5360 - accuracy: 0.8180 - val_loss: 0.8860 - val_accuracy: 0.7500\n",
            "Epoch 9/25\n",
            "573/573 [==============================] - 27s 46ms/step - loss: 0.5174 - accuracy: 0.8257 - val_loss: 0.5229 - val_accuracy: 0.8125\n",
            "Epoch 10/25\n",
            "573/573 [==============================] - 26s 45ms/step - loss: 0.5296 - accuracy: 0.8183 - val_loss: 0.8174 - val_accuracy: 0.7500\n",
            "Epoch 11/25\n",
            "573/573 [==============================] - 26s 45ms/step - loss: 0.5105 - accuracy: 0.8252 - val_loss: 1.1517 - val_accuracy: 0.7188\n",
            "Epoch 12/25\n",
            "573/573 [==============================] - 26s 45ms/step - loss: 0.5028 - accuracy: 0.8283 - val_loss: 1.1492 - val_accuracy: 0.6562\n",
            "Epoch 13/25\n",
            "573/573 [==============================] - 26s 45ms/step - loss: 0.4987 - accuracy: 0.8321 - val_loss: 0.7001 - val_accuracy: 0.7812\n",
            "Epoch 14/25\n",
            "573/573 [==============================] - 26s 45ms/step - loss: 0.4963 - accuracy: 0.8289 - val_loss: 0.7194 - val_accuracy: 0.8438\n",
            "Epoch 15/25\n",
            "573/573 [==============================] - 26s 45ms/step - loss: 0.4869 - accuracy: 0.8332 - val_loss: 0.6976 - val_accuracy: 0.6875\n",
            "Epoch 16/25\n",
            "573/573 [==============================] - 26s 46ms/step - loss: 0.4650 - accuracy: 0.8400 - val_loss: 0.5633 - val_accuracy: 0.7500\n",
            "Epoch 17/25\n",
            "573/573 [==============================] - 26s 46ms/step - loss: 0.4718 - accuracy: 0.8392 - val_loss: 0.8332 - val_accuracy: 0.8125\n",
            "Epoch 18/25\n",
            "573/573 [==============================] - 26s 45ms/step - loss: 0.4719 - accuracy: 0.8399 - val_loss: 0.8106 - val_accuracy: 0.7188\n",
            "Epoch 19/25\n",
            "573/573 [==============================] - 26s 45ms/step - loss: 0.4625 - accuracy: 0.8426 - val_loss: 0.5594 - val_accuracy: 0.8125\n",
            "Epoch 20/25\n",
            "573/573 [==============================] - 26s 46ms/step - loss: 0.4531 - accuracy: 0.8445 - val_loss: 1.9148 - val_accuracy: 0.4688\n",
            "Epoch 21/25\n",
            "573/573 [==============================] - 26s 45ms/step - loss: 0.4528 - accuracy: 0.8447 - val_loss: 0.6164 - val_accuracy: 0.7812\n",
            "Epoch 22/25\n",
            "573/573 [==============================] - 26s 45ms/step - loss: 0.4443 - accuracy: 0.8482 - val_loss: 0.7105 - val_accuracy: 0.8125\n",
            "Epoch 23/25\n",
            "573/573 [==============================] - 26s 45ms/step - loss: 0.4465 - accuracy: 0.8469 - val_loss: 0.6010 - val_accuracy: 0.8125\n",
            "Epoch 24/25\n",
            "573/573 [==============================] - 26s 46ms/step - loss: 0.4351 - accuracy: 0.8512 - val_loss: 1.0150 - val_accuracy: 0.7812\n",
            "Epoch 25/25\n",
            "573/573 [==============================] - 26s 45ms/step - loss: 0.4314 - accuracy: 0.8559 - val_loss: 0.3752 - val_accuracy: 0.8438\n"
          ]
        }
      ]
    },
    {
      "cell_type": "code",
      "source": [
        "score = model.evaluate(train)\n",
        "print(\"Total loss on Training set: \", score[0])\n",
        "print(\"Accuracy of Training set: \", score[1])"
      ],
      "metadata": {
        "colab": {
          "base_uri": "https://localhost:8080/"
        },
        "id": "CtkyVz0c_aC7",
        "outputId": "618065b5-c60d-453e-cd91-3f5e351dc60c"
      },
      "execution_count": 26,
      "outputs": [
        {
          "output_type": "stream",
          "name": "stdout",
          "text": [
            "573/573 [==============================] - 9s 15ms/step - loss: 0.4488 - accuracy: 0.8454\n",
            "Total loss on Training set:  0.4487924575805664\n",
            "Accuracy of Training set:  0.845440685749054\n"
          ]
        }
      ]
    },
    {
      "cell_type": "code",
      "source": [
        "score = model.evaluate(val)\n",
        "print(\"Total loss on Validation set: \", score[0])\n",
        "print(\"Accuracy of Validation set: \", score[1])"
      ],
      "metadata": {
        "colab": {
          "base_uri": "https://localhost:8080/"
        },
        "id": "eQK7OOJq_ch7",
        "outputId": "fe688c23-9817-4268-b008-b82b7e0e7746"
      },
      "execution_count": 27,
      "outputs": [
        {
          "output_type": "stream",
          "name": "stdout",
          "text": [
            "163/163 [==============================] - 10s 14ms/step - loss: 0.9605 - accuracy: 0.7327\n",
            "Total loss on Validation set:  0.9604636430740356\n",
            "Accuracy of Validation set:  0.7327454090118408\n"
          ]
        }
      ]
    },
    {
      "cell_type": "code",
      "source": [
        "acc = history.history['accuracy']\n",
        "val_acc = history.history['val_accuracy']\n",
        "\n",
        "loss = history.history['loss']\n",
        "val_loss = history.history['val_loss']\n",
        "\n",
        "epochs_range = range(25)\n",
        "\n",
        "plt.figure(figsize=(8, 8))\n",
        "plt.subplot(1, 2, 1)\n",
        "plt.plot(epochs_range, acc, label='Training Accuracy')\n",
        "plt.plot(epochs_range, val_acc, label='Validation Accuracy')\n",
        "plt.legend(loc='lower right')\n",
        "plt.title('Training and Validation Accuracy')\n",
        "\n",
        "plt.subplot(1, 2, 2)\n",
        "plt.plot(epochs_range, loss, label='Training Loss')\n",
        "plt.plot(epochs_range, val_loss, label='Validation Loss')\n",
        "plt.legend(loc='upper right')\n",
        "plt.title('Training and Validation Loss')\n",
        "plt.show()"
      ],
      "metadata": {
        "colab": {
          "base_uri": "https://localhost:8080/",
          "height": 499
        },
        "id": "V_85bkW2HwAN",
        "outputId": "893b582e-d68b-46ea-c0ab-1daa07bca63b"
      },
      "execution_count": 28,
      "outputs": [
        {
          "output_type": "display_data",
          "data": {
            "text/plain": [
              "<Figure size 576x576 with 2 Axes>"
            ],
            "image/png": "[encoded data removed]"
          },
          "metadata": {
            "needs_background": "light"
          }
        }
      ]
    },
    {
      "cell_type": "code",
      "source": [
        "score = model.evaluate(test)\n",
        "print(\"Total loss on Test set: \", score[0])\n",
        "print(\"Accuracy of Test set: \", score[1])"
      ],
      "metadata": {
        "colab": {
          "base_uri": "https://localhost:8080/"
        },
        "id": "8KFlHZMqR2BN",
        "outputId": "1133de75-369d-43f7-813b-7c9129fdce4e"
      },
      "execution_count": 29,
      "outputs": [
        {
          "output_type": "stream",
          "name": "stdout",
          "text": [
            "81/81 [==============================] - 10s 14ms/step - loss: 0.9790 - accuracy: 0.7249\n",
            "Total loss on Test set:  0.9789593815803528\n",
            "Accuracy of Test set:  0.7249228358268738\n"
          ]
        }
      ]
    }
  ]
}