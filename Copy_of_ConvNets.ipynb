{
  "nbformat": 4,
  "nbformat_minor": 0,
  "metadata": {
    "colab": {
      "provenance": []
    },
    "kernelspec": {
      "name": "python3",
      "display_name": "Python 3"
    },
    "language_info": {
      "name": "python"
    },
    "accelerator": "GPU",
    "gpuClass": "premium"
  },
  "cells": [
    {
      "cell_type": "code",
      "execution_count": 2,
      "metadata": {
        "colab": {
          "base_uri": "https://localhost:8080/"
        },
        "id": "_sJFM8Fb_Qp2",
        "outputId": "b1da5192-6b9e-4fd3-d2f2-0752db32ccfc"
      },
      "outputs": [
        {
          "output_type": "stream",
          "name": "stdout",
          "text": [
            "Drive already mounted at /content/gdrive; to attempt to forcibly remount, call drive.mount(\"/content/gdrive\", force_remount=True).\n"
          ]
        }
      ],
      "source": [
        "from google.colab import drive\n",
        "drive.mount('/content/gdrive')"
      ]
    },
    {
      "cell_type": "code",
      "source": [
        "import os\n",
        "os.environ['KAGGLE_CONFIG_DIR']='/content/gdrive/MyDrive/kaggle_dataset'\n"
      ],
      "metadata": {
        "id": "Csgt5lr4_YfI"
      },
      "execution_count": 3,
      "outputs": []
    },
    {
      "cell_type": "code",
      "source": [
        "%cd /content/gdrive/MyDrive/kaggle_dataset"
      ],
      "metadata": {
        "colab": {
          "base_uri": "https://localhost:8080/"
        },
        "id": "lehEyUhqADtZ",
        "outputId": "676ddbd9-0afe-47a7-c56a-4b4719773d86"
      },
      "execution_count": 4,
      "outputs": [
        {
          "output_type": "stream",
          "name": "stdout",
          "text": [
            "/content/gdrive/MyDrive/kaggle_dataset\n"
          ]
        }
      ]
    },
    {
      "cell_type": "code",
      "source": [
        "!ls"
      ],
      "metadata": {
        "id": "NsPDNys3ADqy",
        "colab": {
          "base_uri": "https://localhost:8080/"
        },
        "outputId": "944a928a-b094-4952-aa5e-32c2d706f4c0"
      },
      "execution_count": 5,
      "outputs": [
        {
          "output_type": "stream",
          "name": "stdout",
          "text": [
            "animals10.zip  kaggle.json  model.png\n"
          ]
        }
      ]
    },
    {
      "cell_type": "code",
      "source": [
        "!kaggle datasets download -d alessiocorrado99/animals10"
      ],
      "metadata": {
        "id": "GibP4TLDADoI",
        "colab": {
          "base_uri": "https://localhost:8080/"
        },
        "outputId": "69f75114-dfa5-4782-b37d-da493c4ffa6e"
      },
      "execution_count": 6,
      "outputs": [
        {
          "output_type": "stream",
          "name": "stdout",
          "text": [
            "401 - Unauthorized\n"
          ]
        }
      ]
    },
    {
      "cell_type": "code",
      "source": [
        "import zipfile\n",
        "Zip_ref = zipfile.ZipFile(\"/content/gdrive/MyDrive/kaggle_dataset/animals10.zip\")\n",
        "Zip_ref.extractall(\"/tmp\")\n",
        "Zip_ref.close()"
      ],
      "metadata": {
        "id": "IxLjZU-pADly"
      },
      "execution_count": 7,
      "outputs": []
    },
    {
      "cell_type": "code",
      "source": [
        "import numpy as np\n",
        "import os\n",
        "import matplotlib.pyplot as plt\n",
        "import tensorflow as tf\n",
        "\n",
        "from tensorflow import keras\n",
        "from keras import layers\n",
        "from keras import utils\n",
        "from keras.models import Sequential\n",
        "from keras.preprocessing.image import ImageDataGenerator"
      ],
      "metadata": {
        "id": "EOqqEj_UADdD"
      },
      "execution_count": 8,
      "outputs": []
    },
    {
      "cell_type": "code",
      "source": [
        "data_dir =\"/tmp/raw-img\""
      ],
      "metadata": {
        "id": "Hso6l21YBTwC"
      },
      "execution_count": 9,
      "outputs": []
    },
    {
      "cell_type": "code",
      "source": [
        "print(os.listdir(\"/tmp/raw-img\"))"
      ],
      "metadata": {
        "id": "9zw9es97BnK6",
        "colab": {
          "base_uri": "https://localhost:8080/"
        },
        "outputId": "c61841f6-5e2c-46c7-9423-a7162fee6280"
      },
      "execution_count": 10,
      "outputs": [
        {
          "output_type": "stream",
          "name": "stdout",
          "text": [
            "['pecora', 'mucca', 'farfalla', 'cane', 'elefante', 'scoiattolo', 'cavallo', 'gallina', 'ragno', 'gatto']\n"
          ]
        }
      ]
    },
    {
      "cell_type": "code",
      "source": [
        "data = tf.keras.utils.image_dataset_from_directory(data_dir)"
      ],
      "metadata": {
        "id": "kN5V5RO_tbDR",
        "colab": {
          "base_uri": "https://localhost:8080/"
        },
        "outputId": "d2da43dd-556d-4a81-a3c4-04472cbcbaf6"
      },
      "execution_count": 11,
      "outputs": [
        {
          "output_type": "stream",
          "name": "stdout",
          "text": [
            "Found 26179 files belonging to 10 classes.\n"
          ]
        }
      ]
    },
    {
      "cell_type": "code",
      "source": [
        "train_size = int(len(data)*.7)\n",
        "val_size = int(len(data)*.2)\n",
        "test_size = int(len(data)*.1)"
      ],
      "metadata": {
        "id": "AyXpKlX52BhH"
      },
      "execution_count": 12,
      "outputs": []
    },
    {
      "cell_type": "code",
      "source": [
        "train_ds = data.take(train_size)\n",
        "val_ds = data.skip(train_size).take(val_size)\n",
        "test_ds = data.skip(train_size+val_size).take(test_size)"
      ],
      "metadata": {
        "id": "WMZ34Tad2Izr"
      },
      "execution_count": 13,
      "outputs": []
    },
    {
      "cell_type": "code",
      "source": [
        "data_augmentation = Sequential([\n",
        "    keras.layers.experimental.preprocessing.RandomFlip(\"horizontal_and_vertical\", input_shape=(256,256,3)),\n",
        "    keras.layers.experimental.preprocessing.RandomRotation(0.1)\n",
        "])"
      ],
      "metadata": {
        "id": "lsfzil4nMXf_"
      },
      "execution_count": 14,
      "outputs": []
    },
    {
      "cell_type": "code",
      "source": [
        "model = Sequential()\n",
        "model.add(keras.layers.experimental.preprocessing.Rescaling(1./255, input_shape=(256, 256, 3)))\n",
        "model.add(data_augmentation)\n",
        "model.add(keras.layers.Conv2D(16, 3, padding='same', activation='relu'))\n",
        "model.add(keras.layers.BatchNormalization())\n",
        "model.add(keras.layers.MaxPool2D(pool_size=(2, 2), strides=2))\n",
        "model.add(keras.layers.BatchNormalization())\n",
        "model.add(keras.layers.Conv2D(32, 3, padding='same', activation='relu'))\n",
        "model.add(keras.layers.Conv2D(32, 3, padding='same', activation='relu'))\n",
        "model.add(keras.layers.BatchNormalization())\n",
        "model.add(keras.layers.MaxPool2D(pool_size=(2, 2), strides=2))\n",
        "model.add(keras.layers.BatchNormalization())\n",
        "model.add(keras.layers.Conv2D(64, 3, padding='same', activation='relu'))\n",
        "model.add(keras.layers.Conv2D(64, 3, padding='same', activation='relu'))\n",
        "model.add(keras.layers.BatchNormalization())\n",
        "model.add(keras.layers.MaxPool2D(pool_size=(2, 2), strides=2))\n",
        "model.add(keras.layers.BatchNormalization())\n",
        "model.add(keras.layers.Conv2D(128, 3, padding='same', activation='relu'))\n",
        "model.add(keras.layers.Conv2D(128, 3, padding='same', activation='relu'))\n",
        "model.add(keras.layers.BatchNormalization())\n",
        "model.add(keras.layers.MaxPool2D(pool_size=(2, 2), strides=2))\n",
        "model.add(keras.layers.BatchNormalization())\n",
        "model.add(keras.layers.Flatten())\n",
        "model.add(keras.layers.Dense(256, activation='relu'))\n",
        "model.add(keras.layers.BatchNormalization())\n",
        "model.add(keras.layers.Dense(10, activation='softmax'))"
      ],
      "metadata": {
        "id": "K1YNq2_q2WkZ"
      },
      "execution_count": 15,
      "outputs": []
    },
    {
      "cell_type": "code",
      "source": [
        "model.summary()"
      ],
      "metadata": {
        "colab": {
          "base_uri": "https://localhost:8080/"
        },
        "id": "przxcpjV2V8v",
        "outputId": "6cb7bd8e-27f5-455e-928d-0e1d344bf158"
      },
      "execution_count": 16,
      "outputs": [
        {
          "output_type": "stream",
          "name": "stdout",
          "text": [
            "Model: \"sequential_1\"\n",
            "_________________________________________________________________\n",
            " Layer (type)                Output Shape              Param #   \n",
            "=================================================================\n",
            " rescaling (Rescaling)       (None, 256, 256, 3)       0         \n",
            "                                                                 \n",
            " sequential (Sequential)     (None, 256, 256, 3)       0         \n",
            "                                                                 \n",
            " conv2d (Conv2D)             (None, 256, 256, 16)      448       \n",
            "                                                                 \n",
            " batch_normalization (BatchN  (None, 256, 256, 16)     64        \n",
            " ormalization)                                                   \n",
            "                                                                 \n",
            " max_pooling2d (MaxPooling2D  (None, 128, 128, 16)     0         \n",
            " )                                                               \n",
            "                                                                 \n",
            " batch_normalization_1 (Batc  (None, 128, 128, 16)     64        \n",
            " hNormalization)                                                 \n",
            "                                                                 \n",
            " conv2d_1 (Conv2D)           (None, 128, 128, 32)      4640      \n",
            "                                                                 \n",
            " conv2d_2 (Conv2D)           (None, 128, 128, 32)      9248      \n",
            "                                                                 \n",
            " batch_normalization_2 (Batc  (None, 128, 128, 32)     128       \n",
            " hNormalization)                                                 \n",
            "                                                                 \n",
            " max_pooling2d_1 (MaxPooling  (None, 64, 64, 32)       0         \n",
            " 2D)                                                             \n",
            "                                                                 \n",
            " batch_normalization_3 (Batc  (None, 64, 64, 32)       128       \n",
            " hNormalization)                                                 \n",
            "                                                                 \n",
            " conv2d_3 (Conv2D)           (None, 64, 64, 64)        18496     \n",
            "                                                                 \n",
            " conv2d_4 (Conv2D)           (None, 64, 64, 64)        36928     \n",
            "                                                                 \n",
            " batch_normalization_4 (Batc  (None, 64, 64, 64)       256       \n",
            " hNormalization)                                                 \n",
            "                                                                 \n",
            " max_pooling2d_2 (MaxPooling  (None, 32, 32, 64)       0         \n",
            " 2D)                                                             \n",
            "                                                                 \n",
            " batch_normalization_5 (Batc  (None, 32, 32, 64)       256       \n",
            " hNormalization)                                                 \n",
            "                                                                 \n",
            " conv2d_5 (Conv2D)           (None, 32, 32, 128)       73856     \n",
            "                                                                 \n",
            " conv2d_6 (Conv2D)           (None, 32, 32, 128)       147584    \n",
            "                                                                 \n",
            " batch_normalization_6 (Batc  (None, 32, 32, 128)      512       \n",
            " hNormalization)                                                 \n",
            "                                                                 \n",
            " max_pooling2d_3 (MaxPooling  (None, 16, 16, 128)      0         \n",
            " 2D)                                                             \n",
            "                                                                 \n",
            " batch_normalization_7 (Batc  (None, 16, 16, 128)      512       \n",
            " hNormalization)                                                 \n",
            "                                                                 \n",
            " flatten (Flatten)           (None, 32768)             0         \n",
            "                                                                 \n",
            " dense (Dense)               (None, 256)               8388864   \n",
            "                                                                 \n",
            " batch_normalization_8 (Batc  (None, 256)              1024      \n",
            " hNormalization)                                                 \n",
            "                                                                 \n",
            " dense_1 (Dense)             (None, 10)                2570      \n",
            "                                                                 \n",
            "=================================================================\n",
            "Total params: 8,685,578\n",
            "Trainable params: 8,684,106\n",
            "Non-trainable params: 1,472\n",
            "_________________________________________________________________\n"
          ]
        }
      ]
    },
    {
      "cell_type": "code",
      "source": [
        "model.compile(loss='sparse_categorical_crossentropy', optimizer='adam', metrics=['accuracy'])"
      ],
      "metadata": {
        "id": "1jbWNFDD2V1L"
      },
      "execution_count": 17,
      "outputs": []
    },
    {
      "cell_type": "code",
      "source": [
        "history = model.fit(train_ds, batch_size = 32, epochs = 25, validation_data=val_ds, validation_steps=1)"
      ],
      "metadata": {
        "colab": {
          "base_uri": "https://localhost:8080/"
        },
        "id": "_GgTIZkg2Vtb",
        "outputId": "4a03791e-10d6-4efd-caa5-0c6642aa4029"
      },
      "execution_count": 18,
      "outputs": [
        {
          "output_type": "stream",
          "name": "stdout",
          "text": [
            "Epoch 1/25\n",
            "573/573 [==============================] - 47s 62ms/step - loss: 1.8492 - accuracy: 0.3801 - val_loss: 2.0110 - val_accuracy: 0.4062\n",
            "Epoch 2/25\n",
            "573/573 [==============================] - 35s 61ms/step - loss: 1.4130 - accuracy: 0.5112 - val_loss: 1.6417 - val_accuracy: 0.5000\n",
            "Epoch 3/25\n",
            "573/573 [==============================] - 35s 60ms/step - loss: 1.2143 - accuracy: 0.5814 - val_loss: 1.6247 - val_accuracy: 0.4688\n",
            "Epoch 4/25\n",
            "573/573 [==============================] - 35s 60ms/step - loss: 1.0844 - accuracy: 0.6281 - val_loss: 1.1473 - val_accuracy: 0.5938\n",
            "Epoch 5/25\n",
            "573/573 [==============================] - 34s 60ms/step - loss: 0.9824 - accuracy: 0.6658 - val_loss: 1.3311 - val_accuracy: 0.5938\n",
            "Epoch 6/25\n",
            "573/573 [==============================] - 35s 60ms/step - loss: 0.9151 - accuracy: 0.6890 - val_loss: 2.2265 - val_accuracy: 0.5000\n",
            "Epoch 7/25\n",
            "573/573 [==============================] - 35s 60ms/step - loss: 0.8500 - accuracy: 0.7087 - val_loss: 1.1625 - val_accuracy: 0.6562\n",
            "Epoch 8/25\n",
            "573/573 [==============================] - 34s 60ms/step - loss: 0.7802 - accuracy: 0.7335 - val_loss: 0.7136 - val_accuracy: 0.7500\n",
            "Epoch 9/25\n",
            "573/573 [==============================] - 35s 60ms/step - loss: 0.7425 - accuracy: 0.7467 - val_loss: 0.6287 - val_accuracy: 0.7812\n",
            "Epoch 10/25\n",
            "573/573 [==============================] - 35s 60ms/step - loss: 0.7011 - accuracy: 0.7619 - val_loss: 0.8940 - val_accuracy: 0.7188\n",
            "Epoch 11/25\n",
            "573/573 [==============================] - 34s 60ms/step - loss: 0.6552 - accuracy: 0.7769 - val_loss: 0.8113 - val_accuracy: 0.7500\n",
            "Epoch 12/25\n",
            "573/573 [==============================] - 34s 60ms/step - loss: 0.6159 - accuracy: 0.7906 - val_loss: 0.8005 - val_accuracy: 0.6875\n",
            "Epoch 13/25\n",
            "573/573 [==============================] - 34s 60ms/step - loss: 0.5954 - accuracy: 0.7956 - val_loss: 1.4809 - val_accuracy: 0.6875\n",
            "Epoch 14/25\n",
            "573/573 [==============================] - 35s 60ms/step - loss: 0.5538 - accuracy: 0.8119 - val_loss: 0.7034 - val_accuracy: 0.8438\n",
            "Epoch 15/25\n",
            "573/573 [==============================] - 34s 60ms/step - loss: 0.5223 - accuracy: 0.8220 - val_loss: 0.5447 - val_accuracy: 0.8750\n",
            "Epoch 16/25\n",
            "573/573 [==============================] - 34s 60ms/step - loss: 0.5119 - accuracy: 0.8274 - val_loss: 2.5730 - val_accuracy: 0.5625\n",
            "Epoch 17/25\n",
            "573/573 [==============================] - 34s 60ms/step - loss: 0.4844 - accuracy: 0.8379 - val_loss: 0.4135 - val_accuracy: 0.8438\n",
            "Epoch 18/25\n",
            "573/573 [==============================] - 34s 60ms/step - loss: 0.4655 - accuracy: 0.8428 - val_loss: 0.4028 - val_accuracy: 0.8438\n",
            "Epoch 19/25\n",
            "573/573 [==============================] - 34s 60ms/step - loss: 0.4413 - accuracy: 0.8512 - val_loss: 0.6193 - val_accuracy: 0.8125\n",
            "Epoch 20/25\n",
            "573/573 [==============================] - 34s 60ms/step - loss: 0.4300 - accuracy: 0.8536 - val_loss: 0.6437 - val_accuracy: 0.7812\n",
            "Epoch 21/25\n",
            "573/573 [==============================] - 34s 60ms/step - loss: 0.4131 - accuracy: 0.8578 - val_loss: 0.8497 - val_accuracy: 0.7500\n",
            "Epoch 22/25\n",
            "573/573 [==============================] - 35s 60ms/step - loss: 0.3940 - accuracy: 0.8666 - val_loss: 0.2847 - val_accuracy: 0.8438\n",
            "Epoch 23/25\n",
            "573/573 [==============================] - 34s 60ms/step - loss: 0.3758 - accuracy: 0.8700 - val_loss: 0.4467 - val_accuracy: 0.8125\n",
            "Epoch 24/25\n",
            "573/573 [==============================] - 34s 60ms/step - loss: 0.3660 - accuracy: 0.8767 - val_loss: 0.4291 - val_accuracy: 0.8750\n",
            "Epoch 25/25\n",
            "573/573 [==============================] - 34s 60ms/step - loss: 0.3417 - accuracy: 0.8841 - val_loss: 0.4137 - val_accuracy: 0.8125\n"
          ]
        }
      ]
    },
    {
      "cell_type": "code",
      "source": [
        "score = model.evaluate(val_ds)\n",
        "print(\"Total loss on validation set:\", score[0])\n",
        "print(\"Accuracy of validation set:\", score[1])\n",
        "\n",
        "score = model.evaluate(train_ds)\n",
        "print(\"Total loss on training set: \", score[0])\n",
        "print(\"Accuracy of training set: \", score[1])"
      ],
      "metadata": {
        "id": "-OJex1tUTDpT",
        "colab": {
          "base_uri": "https://localhost:8080/"
        },
        "outputId": "0b6b3731-6117-4d01-8c43-a7873009cf08"
      },
      "execution_count": 19,
      "outputs": [
        {
          "output_type": "stream",
          "name": "stdout",
          "text": [
            "163/163 [==============================] - 10s 17ms/step - loss: 0.9291 - accuracy: 0.7423\n",
            "Total loss on validation set: 0.9290838837623596\n",
            "Accuracy of validation set: 0.7423312664031982\n",
            "573/573 [==============================] - 9s 15ms/step - loss: 0.5449 - accuracy: 0.8252\n",
            "Total loss on training set:  0.5448733568191528\n",
            "Accuracy of training set:  0.8252072334289551\n"
          ]
        }
      ]
    },
    {
      "cell_type": "code",
      "source": [
        "acc = history.history['accuracy']\n",
        "val_acc = history.history['val_accuracy']\n",
        "\n",
        "loss = history.history['loss']\n",
        "val_loss = history.history['val_loss']\n",
        "\n",
        "epochs = range(25)\n",
        "\n",
        "plt.figure(figsize=(8, 8))\n",
        "plt.subplot(1, 2, 1)\n",
        "plt.plot(epochs, acc, label='Training Accuracy')\n",
        "plt.plot(epochs, val_acc, label='Validation Accuracy')\n",
        "plt.legend(loc='upper left')\n",
        "plt.title('Training and Validation Accuracy')\n",
        "\n",
        "plt.subplot(1, 2, 2)\n",
        "plt.plot(epochs, loss, label='Training Loss')\n",
        "plt.plot(epochs, val_loss, label='Validation Loss')\n",
        "plt.legend(loc='upper left')\n",
        "plt.title('Training and Validation Loss')\n",
        "plt.show()"
      ],
      "metadata": {
        "id": "ZR8Tzv7WUNl4",
        "colab": {
          "base_uri": "https://localhost:8080/",
          "height": 499
        },
        "outputId": "7171a5bf-ad96-4058-d5cb-df2e345c7810"
      },
      "execution_count": 22,
      "outputs": [
        {
          "output_type": "display_data",
          "data": {
            "text/plain": [
              "<Figure size 576x576 with 2 Axes>"
            ],
            "image/png": "[encoded data removed]"
          },
          "metadata": {
            "needs_background": "light"
          }
        }
      ]
    },
    {
      "cell_type": "code",
      "source": [
        "score = model.evaluate(test_ds)\n",
        "print(\"Total loss on testing set: \", score[0])\n",
        "print(\"Accuracy of testing set: \", score[1])"
      ],
      "metadata": {
        "id": "FTdBYzHSP8nZ",
        "colab": {
          "base_uri": "https://localhost:8080/"
        },
        "outputId": "656a5ef8-527e-4cd1-a0fb-aa1e96fcfd78"
      },
      "execution_count": 21,
      "outputs": [
        {
          "output_type": "stream",
          "name": "stdout",
          "text": [
            "81/81 [==============================] - 10s 16ms/step - loss: 0.9649 - accuracy: 0.7346\n",
            "Total loss on testing set:  0.9649220108985901\n",
            "Accuracy of testing set:  0.7345678806304932\n"
          ]
        }
      ]
    }
  ]
}